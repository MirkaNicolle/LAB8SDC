{
  "cells": [
    {
      "attachments": {},
      "cell_type": "markdown",
      "metadata": {
        "id": "Xr4Ge9TAOtKa"
      },
      "source": [
        "# Laboratorio 7 - Seguridad en modelos de data science"
      ]
    },
    {
      "cell_type": "code",
      "execution_count": 123,
      "metadata": {
        "colab": {
          "base_uri": "https://localhost:8080/"
        },
        "id": "RZPsDK1QoxMP",
        "outputId": "8b766f6f-74c6-4676-ace1-21e9d94a0981"
      },
      "outputs": [
        {
          "name": "stderr",
          "output_type": "stream",
          "text": [
            "\"pip\" no se reconoce como un comando interno o externo,\n",
            "programa o archivo por lotes ejecutable.\n"
          ]
        }
      ],
      "source": [
        "!pip install scikit-learn==1.1.0"
      ]
    },
    {
      "cell_type": "code",
      "execution_count": 124,
      "metadata": {
        "colab": {
          "base_uri": "https://localhost:8080/"
        },
        "id": "hENKSNH7ng6c",
        "outputId": "bc05557c-62d9-4a41-d26e-faa0f49ba575"
      },
      "outputs": [
        {
          "name": "stderr",
          "output_type": "stream",
          "text": [
            "\"pip\" no se reconoce como un comando interno o externo,\n",
            "programa o archivo por lotes ejecutable.\n"
          ]
        }
      ],
      "source": [
        "!pip install adversarial-robustness-toolbox"
      ]
    },
    {
      "cell_type": "code",
      "execution_count": 167,
      "metadata": {
        "id": "_Awxm6vbK_4A"
      },
      "outputs": [],
      "source": [
        "import numpy as np\n",
        "import pandas as pd\n",
        "import seaborn as sns\n",
        "import tensorflow as tf\n",
        "from tensorflow import keras\n",
        "from keras.constraints import maxnorm\n",
        "from keras.preprocessing.image import ImageDataGenerator\n",
        "from sklearn.model_selection import train_test_split\n",
        "from art.estimators.classification import KerasClassifier\n",
        "from art.attacks import ExtractionAttack\n",
        "from art.attacks.extraction import CopycatCNN, KnockoffNets\n",
        "from keras.models import Sequential, Model, load_model\n",
        "from keras.layers import Dense, Dropout, Flatten\n",
        "from keras.layers import Conv2D, MaxPooling2D, InputLayer, Reshape\n",
        "from art.attacks.evasion import FastGradientMethod\n",
        "from sklearn.metrics import accuracy_score, confusion_matrix, precision_score, recall_score, f1_score\n",
        "from art.defences.postprocessor import ReverseSigmoid\n",
        "from art.defences.preprocessor import SpatialSmoothing"
      ]
    },
    {
      "cell_type": "code",
      "execution_count": 126,
      "metadata": {
        "id": "AibTuE6DLosM"
      },
      "outputs": [],
      "source": [
        "DATA_DIRECTORY = './B'"
      ]
    },
    {
      "attachments": {},
      "cell_type": "markdown",
      "metadata": {
        "id": "yR_H1Q1NL5Ag"
      },
      "source": [
        "###Carga de imagenes"
      ]
    },
    {
      "cell_type": "code",
      "execution_count": 127,
      "metadata": {
        "id": "x7u0dj1hxEs-"
      },
      "outputs": [],
      "source": [
        "tf.compat.v1.disable_eager_execution()"
      ]
    },
    {
      "cell_type": "code",
      "execution_count": 128,
      "metadata": {
        "colab": {
          "base_uri": "https://localhost:8080/"
        },
        "id": "QjNm8ij5XrtQ",
        "outputId": "f4a37d1b-6785-486d-8eaa-02619d5544c3"
      },
      "outputs": [
        {
          "name": "stdout",
          "output_type": "stream",
          "text": [
            "Found 9339 images belonging to 25 classes.\n"
          ]
        }
      ],
      "source": [
        "path_images = ImageDataGenerator().flow_from_directory(directory=DATA_DIRECTORY, target_size=(128,128), batch_size=10000)"
      ]
    },
    {
      "cell_type": "code",
      "execution_count": 129,
      "metadata": {
        "colab": {
          "base_uri": "https://localhost:8080/",
          "height": 311
        },
        "id": "m67JqOZTNLaC",
        "outputId": "d61c8c2a-0963-4649-9f14-eb3e10011155"
      },
      "outputs": [],
      "source": [
        "images, marks = next(path_images)"
      ]
    },
    {
      "cell_type": "code",
      "execution_count": 130,
      "metadata": {
        "id": "0fReZGwKMQML"
      },
      "outputs": [],
      "source": [
        "X_train, X_test, y_train, y_test = train_test_split(images, marks, test_size = 0.3)"
      ]
    },
    {
      "cell_type": "code",
      "execution_count": 131,
      "metadata": {
        "id": "CHqSpavm3IRv"
      },
      "outputs": [
        {
          "data": {
            "text/plain": [
              "(6537, 128, 128, 3)"
            ]
          },
          "execution_count": 131,
          "metadata": {},
          "output_type": "execute_result"
        }
      ],
      "source": [
        "X_train.shape"
      ]
    },
    {
      "cell_type": "code",
      "execution_count": 132,
      "metadata": {
        "id": "0YuryNJJ3Mh0"
      },
      "outputs": [
        {
          "data": {
            "text/plain": [
              "(6537, 25)"
            ]
          },
          "execution_count": 132,
          "metadata": {},
          "output_type": "execute_result"
        }
      ],
      "source": [
        "y_train.shape"
      ]
    },
    {
      "cell_type": "code",
      "execution_count": 133,
      "metadata": {
        "id": "B98d1LMY3OOF"
      },
      "outputs": [
        {
          "data": {
            "text/plain": [
              "321306624"
            ]
          },
          "execution_count": 133,
          "metadata": {},
          "output_type": "execute_result"
        }
      ],
      "source": [
        "X_train.size"
      ]
    },
    {
      "cell_type": "code",
      "execution_count": 134,
      "metadata": {
        "id": "p_KVg4293Q5R"
      },
      "outputs": [
        {
          "data": {
            "text/plain": [
              "163425"
            ]
          },
          "execution_count": 134,
          "metadata": {},
          "output_type": "execute_result"
        }
      ],
      "source": [
        "y_train.size"
      ]
    },
    {
      "cell_type": "code",
      "execution_count": 135,
      "metadata": {
        "id": "jqTFmIK93Tyc"
      },
      "outputs": [
        {
          "data": {
            "text/plain": [
              "(2802, 128, 128, 3)"
            ]
          },
          "execution_count": 135,
          "metadata": {},
          "output_type": "execute_result"
        }
      ],
      "source": [
        "X_test.shape"
      ]
    },
    {
      "cell_type": "code",
      "execution_count": 136,
      "metadata": {
        "id": "GO6TkFoc3V-k"
      },
      "outputs": [
        {
          "data": {
            "text/plain": [
              "(2802, 25)"
            ]
          },
          "execution_count": 136,
          "metadata": {},
          "output_type": "execute_result"
        }
      ],
      "source": [
        "y_test.shape"
      ]
    },
    {
      "cell_type": "code",
      "execution_count": 137,
      "metadata": {
        "id": "vIm921xS3tYg"
      },
      "outputs": [
        {
          "data": {
            "text/plain": [
              "137723904"
            ]
          },
          "execution_count": 137,
          "metadata": {},
          "output_type": "execute_result"
        }
      ],
      "source": [
        "X_test.size"
      ]
    },
    {
      "cell_type": "code",
      "execution_count": 138,
      "metadata": {
        "id": "_Icef0Kk3xQD"
      },
      "outputs": [
        {
          "data": {
            "text/plain": [
              "70050"
            ]
          },
          "execution_count": 138,
          "metadata": {},
          "output_type": "execute_result"
        }
      ],
      "source": [
        "y_test.size"
      ]
    },
    {
      "cell_type": "code",
      "execution_count": 139,
      "metadata": {
        "id": "3EN7Aejl3z1l"
      },
      "outputs": [
        {
          "name": "stdout",
          "output_type": "stream",
          "text": [
            "Images size -->  4\n",
            "Marks -->  4\n"
          ]
        }
      ],
      "source": [
        "print('Images size --> ', images.itemsize)\n",
        "print('Marks --> ',marks.itemsize)"
      ]
    },
    {
      "cell_type": "code",
      "execution_count": 140,
      "metadata": {
        "id": "ugrKwBvA31h6"
      },
      "outputs": [
        {
          "data": {
            "text/plain": [
              "array([[[[  0.,   0.,   0.],\n",
              "         [  0.,   0.,   0.],\n",
              "         [  0.,   0.,   0.],\n",
              "         ...,\n",
              "         [  0.,   0.,   0.],\n",
              "         [  0.,   0.,   0.],\n",
              "         [  0.,   0.,   0.]],\n",
              "\n",
              "        [[  0.,   0.,   0.],\n",
              "         [  0.,   0.,   0.],\n",
              "         [  0.,   0.,   0.],\n",
              "         ...,\n",
              "         [  0.,   0.,   0.],\n",
              "         [  0.,   0.,   0.],\n",
              "         [  0.,   0.,   0.]],\n",
              "\n",
              "        [[  0.,   0.,   0.],\n",
              "         [  0.,   0.,   0.],\n",
              "         [  0.,   0.,   0.],\n",
              "         ...,\n",
              "         [  0.,   0.,   0.],\n",
              "         [  0.,   0.,   0.],\n",
              "         [  0.,   0.,   0.]],\n",
              "\n",
              "        ...,\n",
              "\n",
              "        [[ 97.,  97.,  97.],\n",
              "         [  4.,   4.,   4.],\n",
              "         [187., 187., 187.],\n",
              "         ...,\n",
              "         [ 64.,  64.,  64.],\n",
              "         [ 74.,  74.,  74.],\n",
              "         [ 53.,  53.,  53.]],\n",
              "\n",
              "        [[ 96.,  96.,  96.],\n",
              "         [200., 200., 200.],\n",
              "         [165., 165., 165.],\n",
              "         ...,\n",
              "         [118., 118., 118.],\n",
              "         [217., 217., 217.],\n",
              "         [155., 155., 155.]],\n",
              "\n",
              "        [[149., 149., 149.],\n",
              "         [171., 171., 171.],\n",
              "         [ 50.,  50.,  50.],\n",
              "         ...,\n",
              "         [ 22.,  22.,  22.],\n",
              "         [ 84.,  84.,  84.],\n",
              "         [187., 187., 187.]]],\n",
              "\n",
              "\n",
              "       [[[112., 112., 112.],\n",
              "         [  0.,   0.,   0.],\n",
              "         [  4.,   4.,   4.],\n",
              "         ...,\n",
              "         [116., 116., 116.],\n",
              "         [  0.,   0.,   0.],\n",
              "         [  0.,   0.,   0.]],\n",
              "\n",
              "        [[  0.,   0.,   0.],\n",
              "         [  0.,   0.,   0.],\n",
              "         [  0.,   0.,   0.],\n",
              "         ...,\n",
              "         [  0.,   0.,   0.],\n",
              "         [  0.,   0.,   0.],\n",
              "         [  0.,   0.,   0.]],\n",
              "\n",
              "        [[181., 181., 181.],\n",
              "         [ 67.,  67.,  67.],\n",
              "         [147., 147., 147.],\n",
              "         ...,\n",
              "         [171., 171., 171.],\n",
              "         [ 79.,  79.,  79.],\n",
              "         [ 81.,  81.,  81.]],\n",
              "\n",
              "        ...,\n",
              "\n",
              "        [[ 56.,  56.,  56.],\n",
              "         [247., 247., 247.],\n",
              "         [188., 188., 188.],\n",
              "         ...,\n",
              "         [ 49.,  49.,  49.],\n",
              "         [218., 218., 218.],\n",
              "         [ 51.,  51.,  51.]],\n",
              "\n",
              "        [[124., 124., 124.],\n",
              "         [140., 140., 140.],\n",
              "         [ 14.,  14.,  14.],\n",
              "         ...,\n",
              "         [ 90.,  90.,  90.],\n",
              "         [ 24.,  24.,  24.],\n",
              "         [101., 101., 101.]],\n",
              "\n",
              "        [[ 30.,  30.,  30.],\n",
              "         [152., 152., 152.],\n",
              "         [  4.,   4.,   4.],\n",
              "         ...,\n",
              "         [222., 222., 222.],\n",
              "         [192., 192., 192.],\n",
              "         [ 41.,  41.,  41.]]],\n",
              "\n",
              "\n",
              "       [[[214., 214., 214.],\n",
              "         [  0.,   0.,   0.],\n",
              "         [  4.,   4.,   4.],\n",
              "         ...,\n",
              "         [116., 116., 116.],\n",
              "         [  0.,   0.,   0.],\n",
              "         [  0.,   0.,   0.]],\n",
              "\n",
              "        [[  0.,   0.,   0.],\n",
              "         [  0.,   0.,   0.],\n",
              "         [  0.,   0.,   0.],\n",
              "         ...,\n",
              "         [  0.,   0.,   0.],\n",
              "         [  0.,   0.,   0.],\n",
              "         [  0.,   0.,   0.]],\n",
              "\n",
              "        [[241., 241., 241.],\n",
              "         [219., 219., 219.],\n",
              "         [168., 168., 168.],\n",
              "         ...,\n",
              "         [ 92.,  92.,  92.],\n",
              "         [190., 190., 190.],\n",
              "         [ 42.,  42.,  42.]],\n",
              "\n",
              "        ...,\n",
              "\n",
              "        [[254., 254., 254.],\n",
              "         [173., 173., 173.],\n",
              "         [113., 113., 113.],\n",
              "         ...,\n",
              "         [193., 193., 193.],\n",
              "         [175., 175., 175.],\n",
              "         [196., 196., 196.]],\n",
              "\n",
              "        [[243., 243., 243.],\n",
              "         [172., 172., 172.],\n",
              "         [119., 119., 119.],\n",
              "         ...,\n",
              "         [125., 125., 125.],\n",
              "         [156., 156., 156.],\n",
              "         [232., 232., 232.]],\n",
              "\n",
              "        [[ 59.,  59.,  59.],\n",
              "         [ 34.,  34.,  34.],\n",
              "         [101., 101., 101.],\n",
              "         ...,\n",
              "         [253., 253., 253.],\n",
              "         [180., 180., 180.],\n",
              "         [239., 239., 239.]]],\n",
              "\n",
              "\n",
              "       ...,\n",
              "\n",
              "\n",
              "       [[[102., 102., 102.],\n",
              "         [  0.,   0.,   0.],\n",
              "         [  4.,   4.,   4.],\n",
              "         ...,\n",
              "         [116., 116., 116.],\n",
              "         [  0.,   0.,   0.],\n",
              "         [  0.,   0.,   0.]],\n",
              "\n",
              "        [[  0.,   0.,   0.],\n",
              "         [  0.,   0.,   0.],\n",
              "         [  0.,   0.,   0.],\n",
              "         ...,\n",
              "         [  0.,   0.,   0.],\n",
              "         [  0.,   0.,   0.],\n",
              "         [  0.,   0.,   0.]],\n",
              "\n",
              "        [[ 99.,  99.,  99.],\n",
              "         [218., 218., 218.],\n",
              "         [ 30.,  30.,  30.],\n",
              "         ...,\n",
              "         [183., 183., 183.],\n",
              "         [179., 179., 179.],\n",
              "         [161., 161., 161.]],\n",
              "\n",
              "        ...,\n",
              "\n",
              "        [[132., 132., 132.],\n",
              "         [166., 166., 166.],\n",
              "         [ 22.,  22.,  22.],\n",
              "         ...,\n",
              "         [198., 198., 198.],\n",
              "         [194., 194., 194.],\n",
              "         [ 42.,  42.,  42.]],\n",
              "\n",
              "        [[149., 149., 149.],\n",
              "         [ 83.,  83.,  83.],\n",
              "         [ 89.,  89.,  89.],\n",
              "         ...,\n",
              "         [101., 101., 101.],\n",
              "         [156., 156., 156.],\n",
              "         [200., 200., 200.]],\n",
              "\n",
              "        [[195., 195., 195.],\n",
              "         [ 99.,  99.,  99.],\n",
              "         [ 15.,  15.,  15.],\n",
              "         ...,\n",
              "         [ 27.,  27.,  27.],\n",
              "         [ 52.,  52.,  52.],\n",
              "         [ 91.,  91.,  91.]]],\n",
              "\n",
              "\n",
              "       [[[ 16.,  16.,  16.],\n",
              "         [240., 240., 240.],\n",
              "         [ 89.,  89.,  89.],\n",
              "         ...,\n",
              "         [  0.,   0.,   0.],\n",
              "         [ 72.,  72.,  72.],\n",
              "         [  0.,   0.,   0.]],\n",
              "\n",
              "        [[201., 201., 201.],\n",
              "         [  1.,   1.,   1.],\n",
              "         [ 15.,  15.,  15.],\n",
              "         ...,\n",
              "         [ 12.,  12.,  12.],\n",
              "         [232., 232., 232.],\n",
              "         [255., 255., 255.]],\n",
              "\n",
              "        [[  4.,   4.,   4.],\n",
              "         [195., 195., 195.],\n",
              "         [235., 235., 235.],\n",
              "         ...,\n",
              "         [195., 195., 195.],\n",
              "         [ 24.,  24.,  24.],\n",
              "         [ 87.,  87.,  87.]],\n",
              "\n",
              "        ...,\n",
              "\n",
              "        [[117., 117., 117.],\n",
              "         [115., 115., 115.],\n",
              "         [108., 108., 108.],\n",
              "         ...,\n",
              "         [  0.,   0.,   0.],\n",
              "         [  0.,   0.,   0.],\n",
              "         [  0.,   0.,   0.]],\n",
              "\n",
              "        [[127., 127., 127.],\n",
              "         [202., 202., 202.],\n",
              "         [ 90.,  90.,  90.],\n",
              "         ...,\n",
              "         [ 64.,  64.,  64.],\n",
              "         [118., 118., 118.],\n",
              "         [110., 110., 110.]],\n",
              "\n",
              "        [[187., 187., 187.],\n",
              "         [ 94.,  94.,  94.],\n",
              "         [  2.,   2.,   2.],\n",
              "         ...,\n",
              "         [166., 166., 166.],\n",
              "         [253., 253., 253.],\n",
              "         [ 20.,  20.,  20.]]],\n",
              "\n",
              "\n",
              "       [[[  0.,   0.,   0.],\n",
              "         [  0.,   0.,   0.],\n",
              "         [  0.,   0.,   0.],\n",
              "         ...,\n",
              "         [  0.,   0.,   0.],\n",
              "         [  0.,   0.,   0.],\n",
              "         [  0.,   0.,   0.]],\n",
              "\n",
              "        [[  0.,   0.,   0.],\n",
              "         [  0.,   0.,   0.],\n",
              "         [  0.,   0.,   0.],\n",
              "         ...,\n",
              "         [  0.,   0.,   0.],\n",
              "         [  0.,   0.,   0.],\n",
              "         [  0.,   0.,   0.]],\n",
              "\n",
              "        [[  0.,   0.,   0.],\n",
              "         [  0.,   0.,   0.],\n",
              "         [  0.,   0.,   0.],\n",
              "         ...,\n",
              "         [  0.,   0.,   0.],\n",
              "         [  0.,   0.,   0.],\n",
              "         [  0.,   0.,   0.]],\n",
              "\n",
              "        ...,\n",
              "\n",
              "        [[ 48.,  48.,  48.],\n",
              "         [184., 184., 184.],\n",
              "         [223., 223., 223.],\n",
              "         ...,\n",
              "         [ 78.,  78.,  78.],\n",
              "         [111., 111., 111.],\n",
              "         [ 70.,  70.,  70.]],\n",
              "\n",
              "        [[102., 102., 102.],\n",
              "         [ 34.,  34.,  34.],\n",
              "         [102., 102., 102.],\n",
              "         ...,\n",
              "         [107., 107., 107.],\n",
              "         [198., 198., 198.],\n",
              "         [193., 193., 193.]],\n",
              "\n",
              "        [[230., 230., 230.],\n",
              "         [129., 129., 129.],\n",
              "         [229., 229., 229.],\n",
              "         ...,\n",
              "         [ 53.,  53.,  53.],\n",
              "         [213., 213., 213.],\n",
              "         [240., 240., 240.]]]], dtype=float32)"
            ]
          },
          "execution_count": 140,
          "metadata": {},
          "output_type": "execute_result"
        }
      ],
      "source": [
        "images"
      ]
    },
    {
      "cell_type": "code",
      "execution_count": 141,
      "metadata": {
        "id": "sQ6sCV5c358Z"
      },
      "outputs": [
        {
          "data": {
            "text/plain": [
              "array([[0., 0., 0., ..., 0., 0., 0.],\n",
              "       [0., 0., 1., ..., 0., 0., 0.],\n",
              "       [0., 0., 1., ..., 0., 0., 0.],\n",
              "       ...,\n",
              "       [0., 0., 1., ..., 0., 0., 0.],\n",
              "       [0., 0., 0., ..., 0., 0., 1.],\n",
              "       [0., 0., 0., ..., 0., 0., 0.]], dtype=float32)"
            ]
          },
          "execution_count": 141,
          "metadata": {},
          "output_type": "execute_result"
        }
      ],
      "source": [
        "marks"
      ]
    },
    {
      "attachments": {},
      "cell_type": "markdown",
      "metadata": {
        "id": "MEofeD5TOrkw"
      },
      "source": [
        "###Modelo"
      ]
    },
    {
      "cell_type": "code",
      "execution_count": 212,
      "metadata": {
        "id": "vfEfUmUnOtyA"
      },
      "outputs": [],
      "source": [
        "model = Sequential()\n",
        "model.add(keras.layers.Rescaling(1./255, input_shape=(128, 128, 3)))\n",
        "model.add(keras.layers.Conv2D(32, kernel_size=(3, 3), activation='relu'))\n",
        "model.add(keras.layers.MaxPooling2D(pool_size=(2, 2)))\n",
        "model.add(keras.layers.Conv2D(64, (3, 3), activation='relu'))\n",
        "model.add(keras.layers.MaxPooling2D(pool_size=(2, 2)))\n",
        "model.add(keras.layers.Flatten())\n",
        "model.add(keras.layers.Dense(1024, activation='relu'))\n",
        "model.add(keras.layers.Dense(25, activation='softmax'))"
      ]
    },
    {
      "cell_type": "code",
      "execution_count": 219,
      "metadata": {
        "id": "zFfI-e2s4CDL"
      },
      "outputs": [],
      "source": [
        "model.compile(loss='categorical_crossentropy', optimizer = 'adam', metrics=['accuracy'])"
      ]
    },
    {
      "cell_type": "code",
      "execution_count": 144,
      "metadata": {
        "id": "geDePUF2Ozni"
      },
      "outputs": [
        {
          "name": "stdout",
          "output_type": "stream",
          "text": [
            "Model: \"sequential_15\"\n",
            "_________________________________________________________________\n",
            " Layer (type)                Output Shape              Param #   \n",
            "=================================================================\n",
            " rescaling_3 (Rescaling)     (None, 128, 128, 3)       0         \n",
            "                                                                 \n",
            " conv2d_30 (Conv2D)          (None, 126, 126, 32)      896       \n",
            "                                                                 \n",
            " max_pooling2d_30 (MaxPoolin  (None, 63, 63, 32)       0         \n",
            " g2D)                                                            \n",
            "                                                                 \n",
            " conv2d_31 (Conv2D)          (None, 61, 61, 64)        18496     \n",
            "                                                                 \n",
            " max_pooling2d_31 (MaxPoolin  (None, 30, 30, 64)       0         \n",
            " g2D)                                                            \n",
            "                                                                 \n",
            " flatten_15 (Flatten)        (None, 57600)             0         \n",
            "                                                                 \n",
            " dense_42 (Dense)            (None, 1024)              58983424  \n",
            "                                                                 \n",
            " dense_43 (Dense)            (None, 25)                25625     \n",
            "                                                                 \n",
            "=================================================================\n",
            "Total params: 59,028,441\n",
            "Trainable params: 59,028,441\n",
            "Non-trainable params: 0\n",
            "_________________________________________________________________\n"
          ]
        }
      ],
      "source": [
        "model.summary()"
      ]
    },
    {
      "cell_type": "code",
      "execution_count": 220,
      "metadata": {
        "id": "kQ-d_C5g4Ibr"
      },
      "outputs": [
        {
          "data": {
            "text/plain": [
              "<keras.engine.sequential.Sequential at 0x1fd9aea1d90>"
            ]
          },
          "execution_count": 220,
          "metadata": {},
          "output_type": "execute_result"
        }
      ],
      "source": [
        "model"
      ]
    },
    {
      "cell_type": "code",
      "execution_count": 221,
      "metadata": {
        "id": "4Zt1kX3w4JnJ"
      },
      "outputs": [
        {
          "data": {
            "text/plain": [
              "[<keras.layers.preprocessing.image_preprocessing.Rescaling at 0x1fd9ae34250>,\n",
              " <keras.layers.convolutional.conv2d.Conv2D at 0x1fd9ae805d0>,\n",
              " <keras.layers.pooling.max_pooling2d.MaxPooling2D at 0x1fd9ad38a90>,\n",
              " <keras.layers.convolutional.conv2d.Conv2D at 0x1fd9a50dd10>,\n",
              " <keras.layers.pooling.max_pooling2d.MaxPooling2D at 0x1fd9ae985d0>,\n",
              " <keras.layers.reshaping.flatten.Flatten at 0x1fd9aeb7f50>,\n",
              " <keras.layers.core.dense.Dense at 0x1fd9aec5890>,\n",
              " <keras.layers.core.dense.Dense at 0x1fd9ad70c50>]"
            ]
          },
          "execution_count": 221,
          "metadata": {},
          "output_type": "execute_result"
        }
      ],
      "source": [
        "model.layers"
      ]
    },
    {
      "cell_type": "code",
      "execution_count": 222,
      "metadata": {
        "id": "Sq3uxs0a5V2N"
      },
      "outputs": [
        {
          "data": {
            "text/plain": [
              "[<keras.metrics.base_metric.MeanMetricWrapper at 0x1fd9af065d0>]"
            ]
          },
          "execution_count": 222,
          "metadata": {},
          "output_type": "execute_result"
        }
      ],
      "source": [
        "model.metrics"
      ]
    },
    {
      "cell_type": "code",
      "execution_count": 224,
      "metadata": {
        "id": "BO9XIT9-O8Nk"
      },
      "outputs": [
        {
          "name": "stdout",
          "output_type": "stream",
          "text": [
            "Accuracy  0.021413276\n"
          ]
        }
      ],
      "source": [
        "op = model.evaluate(X_test, y_test)\n",
        "print(\"Accuracy \", op[1])"
      ]
    },
    {
      "cell_type": "code",
      "execution_count": 149,
      "metadata": {
        "id": "nlu5JspwPBWb"
      },
      "outputs": [
        {
          "name": "stdout",
          "output_type": "stream",
          "text": [
            "Train on 6537 samples\n",
            "Epoch 1/5\n",
            "6537/6537 [==============================] - 143s 22ms/sample - loss: 0.6157 - accuracy: 0.8856\n",
            "Epoch 2/5\n",
            "6537/6537 [==============================] - 141s 22ms/sample - loss: 0.1365 - accuracy: 0.9644\n",
            "Epoch 3/5\n",
            "6537/6537 [==============================] - 140s 21ms/sample - loss: 0.0749 - accuracy: 0.9772\n",
            "Epoch 4/5\n",
            "6537/6537 [==============================] - 140s 21ms/sample - loss: 0.0661 - accuracy: 0.9810\n",
            "Epoch 5/5\n",
            "6537/6537 [==============================] - 138s 21ms/sample - loss: 0.0635 - accuracy: 0.9832\n"
          ]
        },
        {
          "data": {
            "text/plain": [
              "<keras.callbacks.History at 0x1fd76efc790>"
            ]
          },
          "execution_count": 149,
          "metadata": {},
          "output_type": "execute_result"
        }
      ],
      "source": [
        "model.fit(X_train, y_train, batch_size=10, epochs=5)"
      ]
    },
    {
      "cell_type": "code",
      "execution_count": 150,
      "metadata": {
        "id": "wwPb1oIqHJvN"
      },
      "outputs": [
        {
          "name": "stdout",
          "output_type": "stream",
          "text": [
            "[0.16058630723443726, 0.95431834]\n"
          ]
        }
      ],
      "source": [
        "print(model.evaluate(X_test, y_test))"
      ]
    },
    {
      "cell_type": "code",
      "execution_count": 151,
      "metadata": {
        "id": "ssykCt8OlGm6"
      },
      "outputs": [],
      "source": [
        "model.save('./B/modelo.h5')"
      ]
    },
    {
      "attachments": {},
      "cell_type": "markdown",
      "metadata": {
        "id": "WesjSU6qXshs"
      },
      "source": [
        "Ataque de evasion"
      ]
    },
    {
      "cell_type": "code",
      "execution_count": 152,
      "metadata": {
        "colab": {
          "base_uri": "https://localhost:8080/",
          "height": 345
        },
        "id": "yZTMuYgXP1Eb",
        "outputId": "0e5c0273-4949-4238-9cb2-0916e3518e57"
      },
      "outputs": [],
      "source": [
        "Modelmalware = KerasClassifier(model, clip_values=(0, 1), use_logits=False)"
      ]
    },
    {
      "cell_type": "code",
      "execution_count": 153,
      "metadata": {
        "colab": {
          "base_uri": "https://localhost:8080/"
        },
        "id": "KwuHHlfpHpRk",
        "outputId": "1e9c9160-e61f-45c0-c1a6-78053198be5d"
      },
      "outputs": [
        {
          "name": "stderr",
          "output_type": "stream",
          "text": [
            "c:\\Users\\owdel\\AppData\\Local\\Programs\\Python\\Python311\\Lib\\site-packages\\keras\\engine\\training_v1.py:2359: UserWarning: `Model.state_updates` will be removed in a future version. This property should not be used in TensorFlow 2.0, as `updates` are applied automatically.\n",
            "  updates=self.state_updates,\n"
          ]
        },
        {
          "name": "stdout",
          "output_type": "stream",
          "text": [
            "Clasificados correctamente: 2674\n",
            "Clasificados incorrectamente: 128\n",
            "Porcentaje: 0.9543183440399714\n"
          ]
        }
      ],
      "source": [
        "x_test_pred = np.argmax(Modelmalware.predict(X_test), axis=1)\n",
        "nb_correct_pred = np.sum(x_test_pred == np.argmax(y_test, axis=1))\n",
        "\n",
        "print(\"Clasificados correctamente: {}\".format(nb_correct_pred))\n",
        "print(\"Clasificados incorrectamente: {}\".format(len(X_test)-nb_correct_pred))\n",
        "print(\"Porcentaje: {}\".format(nb_correct_pred/len(X_test)))"
      ]
    },
    {
      "cell_type": "code",
      "execution_count": 154,
      "metadata": {
        "colab": {
          "base_uri": "https://localhost:8080/",
          "height": 328
        },
        "id": "Jf-_apwEIUAr",
        "outputId": "1c1f3060-0ee6-4acd-d7a4-ad3688393b84"
      },
      "outputs": [],
      "source": [
        "attacker = FastGradientMethod(Modelmalware, eps=1.7)\n",
        "x_test_adv = attacker.generate(X_test)"
      ]
    },
    {
      "cell_type": "code",
      "execution_count": 155,
      "metadata": {},
      "outputs": [
        {
          "name": "stdout",
          "output_type": "stream",
          "text": [
            "Accuracy de los ejemplos adversarios: 0.9564596716630978\n",
            "Perturbación media: 1.5572315\n"
          ]
        }
      ],
      "source": [
        "y_pred_adv = Modelmalware.predict(x_test_adv)\n",
        "accuracy_adv = np.mean(np.argmax(y_test, axis=1) == np.argmax(y_pred_adv, axis=1))\n",
        "print(\"Accuracy de los ejemplos adversarios:\", accuracy_adv)\n",
        "perturbation = np.mean(np.abs(x_test_adv - X_test))\n",
        "print(\"Perturbación media:\", perturbation)"
      ]
    },
    {
      "attachments": {},
      "cell_type": "markdown",
      "metadata": {},
      "source": [
        "Defensa de evasion"
      ]
    },
    {
      "cell_type": "code",
      "execution_count": 169,
      "metadata": {},
      "outputs": [],
      "source": [
        "defender = SpatialSmoothing(window_size=3)\n",
        "x_def, _ = defender(images)\n",
        "x_adv_def, _ = defender(x_test_adv)\n",
        "\n"
      ]
    },
    {
      "cell_type": "code",
      "execution_count": 171,
      "metadata": {},
      "outputs": [],
      "source": [
        "y_predict = model.predict(X_test)\n",
        "y_adv_predict = model.predict(x_adv_def)"
      ]
    },
    {
      "cell_type": "code",
      "execution_count": 191,
      "metadata": {},
      "outputs": [
        {
          "name": "stdout",
          "output_type": "stream",
          "text": [
            "Precisión de original: 0.0073661670235546034\n",
            "Precision de adversario:  0.0012705210563882941\n"
          ]
        }
      ],
      "source": [
        "accuracy = np.mean(y_test == y_predict)\n",
        "accuracy2 = np.mean(y_test == y_adv_predict)\n",
        "print(\"Precisión de original:\", accuracy)\n",
        "print(\"Precision de adversario: \", accuracy2)"
      ]
    },
    {
      "attachments": {},
      "cell_type": "markdown",
      "metadata": {
        "id": "cgMDighTYD-1"
      },
      "source": [
        "Ataque de extraccion"
      ]
    },
    {
      "cell_type": "code",
      "execution_count": 156,
      "metadata": {},
      "outputs": [],
      "source": [
        "Modelmalware1 = KerasClassifier(model)"
      ]
    },
    {
      "cell_type": "code",
      "execution_count": 157,
      "metadata": {
        "id": "bER1RvNtpUkW"
      },
      "outputs": [],
      "source": [
        "len_steal = 2000\n",
        "epochs = 5"
      ]
    },
    {
      "cell_type": "code",
      "execution_count": 158,
      "metadata": {},
      "outputs": [],
      "source": [
        "stealed = Sequential()\n",
        "stealed.add(keras.layers.Rescaling(1./255, input_shape=(128, 128, 3)))\n",
        "stealed.add(keras.layers.Conv2D(32, kernel_size=(3, 3), activation='relu'))\n",
        "stealed.add(keras.layers.MaxPooling2D(pool_size=(2, 2)))\n",
        "stealed.add(keras.layers.Conv2D(64, (3, 3), activation='relu'))\n",
        "stealed.add(keras.layers.MaxPooling2D(pool_size=(2, 2)))\n",
        "stealed.add(keras.layers.Flatten())\n",
        "stealed.add(keras.layers.Dense(1024, activation='relu'))\n",
        "stealed.add(keras.layers.Dense(25, activation='softmax'))"
      ]
    },
    {
      "cell_type": "code",
      "execution_count": 159,
      "metadata": {},
      "outputs": [],
      "source": [
        "stealed.compile(optimizer=\"adam\",loss=\"categorical_crossentropy\", metrics=[\"accuracy\"])"
      ]
    },
    {
      "cell_type": "code",
      "execution_count": 160,
      "metadata": {},
      "outputs": [],
      "source": [
        "stealed = KerasClassifier(stealed, clip_values=(0, 1), use_logits=False)"
      ]
    },
    {
      "cell_type": "code",
      "execution_count": 161,
      "metadata": {},
      "outputs": [],
      "source": [
        "copycat = CopycatCNN(nb_epochs=epochs, nb_stolen=len_steal, use_probability=True, classifier=Modelmalware1)\n"
      ]
    },
    {
      "cell_type": "code",
      "execution_count": 162,
      "metadata": {},
      "outputs": [
        {
          "name": "stdout",
          "output_type": "stream",
          "text": [
            "Train on 2000 samples\n",
            "Epoch 1/5\n",
            "2000/2000 [==============================] - 269s 134ms/sample - loss: 0.8991 - accuracy: 0.8055\n",
            "Epoch 2/5\n",
            "2000/2000 [==============================] - 330s 165ms/sample - loss: 0.2713 - accuracy: 0.9425\n",
            "Epoch 3/5\n",
            "2000/2000 [==============================] - 287s 144ms/sample - loss: 0.2095 - accuracy: 0.9635\n",
            "Epoch 4/5\n",
            "2000/2000 [==============================] - 664s 332ms/sample - loss: 0.1614 - accuracy: 0.9785\n",
            "Epoch 5/5\n",
            "2000/2000 [==============================] - 401s 201ms/sample - loss: 0.1428 - accuracy: 0.9850\n"
          ]
        }
      ],
      "source": [
        "stealedC = copycat.extract(x=X_train, y=y_train, thieved_classifier=stealed)"
      ]
    },
    {
      "cell_type": "code",
      "execution_count": 165,
      "metadata": {},
      "outputs": [],
      "source": [
        "y_predic = stealedC.predict(X_test)\n"
      ]
    },
    {
      "cell_type": "code",
      "execution_count": 166,
      "metadata": {},
      "outputs": [
        {
          "name": "stdout",
          "output_type": "stream",
          "text": [
            "Accuracy de los ejemplos adversarios: 0.9389721627408993\n"
          ]
        }
      ],
      "source": [
        "accuracy_ = np.mean(np.argmax(y_test, axis=1) == np.argmax(y_predic, axis=1))\n",
        "print(\"Accuracy de los ejemplos adversarios:\", accuracy_)\n"
      ]
    },
    {
      "attachments": {},
      "cell_type": "markdown",
      "metadata": {},
      "source": [
        "Defensa de extraccion"
      ]
    },
    {
      "cell_type": "code",
      "execution_count": 199,
      "metadata": {},
      "outputs": [],
      "source": [
        "post = ReverseSigmoid(\n",
        "  beta=1.0,\n",
        "  gamma=0.2\n",
        ")\n",
        "\n",
        "defmod = KerasClassifier(\n",
        "  model=model,\n",
        "  postprocessing_defences=post,\n",
        ")"
      ]
    },
    {
      "cell_type": "code",
      "execution_count": 200,
      "metadata": {},
      "outputs": [],
      "source": [
        "stlmodel = Sequential()\n",
        "stlmodel.add(keras.layers.Rescaling(1./255, input_shape=(128, 128, 3)))\n",
        "stlmodel.add(keras.layers.Conv2D(32, kernel_size=(3, 3), activation='relu'))\n",
        "stlmodel.add(keras.layers.MaxPooling2D(pool_size=(2, 2)))\n",
        "stlmodel.add(keras.layers.Conv2D(64, (3, 3), activation='relu'))\n",
        "stlmodel.add(keras.layers.MaxPooling2D(pool_size=(2, 2)))\n",
        "stlmodel.add(keras.layers.Flatten())\n",
        "stlmodel.add(keras.layers.Dense(1024, activation='relu'))\n",
        "stlmodel.add(keras.layers.Dense(25, activation='softmax'))"
      ]
    },
    {
      "cell_type": "code",
      "execution_count": 201,
      "metadata": {},
      "outputs": [],
      "source": [
        "stlmodel.compile(optimizer=\"adam\",loss=\"categorical_crossentropy\", metrics=[\"accuracy\"])"
      ]
    },
    {
      "cell_type": "code",
      "execution_count": 203,
      "metadata": {},
      "outputs": [
        {
          "name": "stderr",
          "output_type": "stream",
          "text": [
            "c:\\Users\\owdel\\AppData\\Local\\Programs\\Python\\Python311\\Lib\\site-packages\\art\\defences\\postprocessor\\reverse_sigmoid.py:75: RuntimeWarning: divide by zero encountered in log\n",
            "  perturbation_r = self.beta * (sigmoid(-self.gamma * np.log((1.0 - preds_clipped) / preds_clipped)) - 0.5)\n"
          ]
        },
        {
          "name": "stdout",
          "output_type": "stream",
          "text": [
            "Train on 6537 samples\n",
            "Epoch 1/5\n",
            "6537/6537 [==============================] - 80s 12ms/sample - loss: 0.0109 - accuracy: 0.9965\n",
            "Epoch 2/5\n",
            "6537/6537 [==============================] - 79s 12ms/sample - loss: 0.0193 - accuracy: 0.9931\n",
            "Epoch 3/5\n",
            "6537/6537 [==============================] - 82s 13ms/sample - loss: 0.0016 - accuracy: 0.9997\n",
            "Epoch 4/5\n",
            "6537/6537 [==============================] - 90s 14ms/sample - loss: 0.0627 - accuracy: 0.9829\n",
            "Epoch 5/5\n",
            "6537/6537 [==============================] - 84s 13ms/sample - loss: 0.0445 - accuracy: 0.9907\n"
          ]
        }
      ],
      "source": [
        "StoleModel = KerasClassifier(stlmodel)\n",
        "\n",
        "copycat_cnn_def = CopycatCNN(\n",
        "  batch_size_fit=16,\n",
        "  batch_size_query=16,\n",
        "  nb_epochs=5,\n",
        "  nb_stolen=len(X_train),\n",
        "  classifier=defmod\n",
        ")\n",
        "\n",
        "stolenModel = copycat_cnn_def.extract(\n",
        "  x=X_train, \n",
        "  y=y_train, \n",
        "  thieved_classifier=StoleModel\n",
        ")"
      ]
    },
    {
      "cell_type": "code",
      "execution_count": 209,
      "metadata": {},
      "outputs": [],
      "source": [
        "y_predict = model.predict(X_test)\n",
        "y_adv_predict = stolenModel.predict(x_adv_def)"
      ]
    },
    {
      "cell_type": "code",
      "execution_count": 210,
      "metadata": {},
      "outputs": [
        {
          "name": "stdout",
          "output_type": "stream",
          "text": [
            "Precisión de original: 0.0073661670235546034\n",
            "Precision de adversario:  0.0013990007137758744\n"
          ]
        }
      ],
      "source": [
        "accuracy = np.mean(y_test == y_predict)\n",
        "accuracy2 = np.mean(y_test == y_adv_predict)\n",
        "print(\"Precisión de original:\", accuracy)\n",
        "print(\"Precision de adversario: \", accuracy2)"
      ]
    },
    {
      "attachments": {},
      "cell_type": "markdown",
      "metadata": {},
      "source": [
        "Disución de resultados:\n",
        "\n",
        "Como podemos ver en las metricas obtenidas, en la creacion del modelo se obtuvo un acurancy de 0.0214, luego del fit al modelo el acurancy subio a 0.9543.\n",
        "\n",
        "En el caso del ataque de evasion se obtuvo un accurancy de 0.9564, y en el caso del ataque de extrancion un accurancy de 0.9389.\n",
        "Ademas del acurancy se hace una comparacion ante los ejemplos adversarios, en el caso de los dos ataques este numero supera el 0.9, en uno llega a 0.95 lo que nos dice que los datos obtentenidos en los ataques llegan a ser casi identicos a los originales. \n",
        "\n",
        "En los casos de implementación de defensa, pudimos observar una baja considerable en los modelos adversarios, en caso de ataque de evasion, la precision llego solamente a 0.0012, en el caso del ataque de extraccion la precisión llego solamnete a 0.0013 teniendo antes una precisión de 0.95 y 0.93 respectivamente. Por lo tanto, se puede afirmar que los metodos de defensa implementados fueron efectivos.\n"
      ]
    }
  ],
  "metadata": {
    "colab": {
      "provenance": []
    },
    "kernelspec": {
      "display_name": "Python 3",
      "name": "python3"
    },
    "language_info": {
      "codemirror_mode": {
        "name": "ipython",
        "version": 3
      },
      "file_extension": ".py",
      "mimetype": "text/x-python",
      "name": "python",
      "nbconvert_exporter": "python",
      "pygments_lexer": "ipython3",
      "version": "3.11.1"
    }
  },
  "nbformat": 4,
  "nbformat_minor": 0
}
